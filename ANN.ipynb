{
 "cells": [
  {
   "cell_type": "code",
   "execution_count": 2,
   "id": "0ca65180",
   "metadata": {},
   "outputs": [],
   "source": [
    "import pandas as pd\n",
    "from matplotlib import pyplot as plt\n",
    "import numpy as np\n",
    "%matplotlib inline"
   ]
  },
  {
   "cell_type": "code",
   "execution_count": 3,
   "id": "acda1cf7",
   "metadata": {},
   "outputs": [
    {
     "data": {
      "text/html": [
       "<div>\n",
       "<style scoped>\n",
       "    .dataframe tbody tr th:only-of-type {\n",
       "        vertical-align: middle;\n",
       "    }\n",
       "\n",
       "    .dataframe tbody tr th {\n",
       "        vertical-align: top;\n",
       "    }\n",
       "\n",
       "    .dataframe thead th {\n",
       "        text-align: right;\n",
       "    }\n",
       "</style>\n",
       "<table border=\"1\" class=\"dataframe\">\n",
       "  <thead>\n",
       "    <tr style=\"text-align: right;\">\n",
       "      <th></th>\n",
       "      <th>Age</th>\n",
       "      <th>Race</th>\n",
       "      <th>Marital Status</th>\n",
       "      <th>T Stage</th>\n",
       "      <th>N Stage</th>\n",
       "      <th>6th Stage</th>\n",
       "      <th>differentiate</th>\n",
       "      <th>Grade</th>\n",
       "      <th>A Stage</th>\n",
       "      <th>Tumor Size</th>\n",
       "      <th>Estrogen Status</th>\n",
       "      <th>Progesterone Status</th>\n",
       "      <th>Regional Node Examined</th>\n",
       "      <th>Reginol Node Positive</th>\n",
       "      <th>Survival Months</th>\n",
       "      <th>Status</th>\n",
       "    </tr>\n",
       "  </thead>\n",
       "  <tbody>\n",
       "    <tr>\n",
       "      <th>2455</th>\n",
       "      <td>50</td>\n",
       "      <td>White</td>\n",
       "      <td>Married</td>\n",
       "      <td>T3</td>\n",
       "      <td>N1</td>\n",
       "      <td>IIIA</td>\n",
       "      <td>Well differentiated</td>\n",
       "      <td>1</td>\n",
       "      <td>Regional</td>\n",
       "      <td>70</td>\n",
       "      <td>Positive</td>\n",
       "      <td>Positive</td>\n",
       "      <td>30</td>\n",
       "      <td>3</td>\n",
       "      <td>84</td>\n",
       "      <td>Alive</td>\n",
       "    </tr>\n",
       "    <tr>\n",
       "      <th>350</th>\n",
       "      <td>44</td>\n",
       "      <td>White</td>\n",
       "      <td>Married</td>\n",
       "      <td>T3</td>\n",
       "      <td>N2</td>\n",
       "      <td>IIIA</td>\n",
       "      <td>Moderately differentiated</td>\n",
       "      <td>2</td>\n",
       "      <td>Regional</td>\n",
       "      <td>52</td>\n",
       "      <td>Positive</td>\n",
       "      <td>Positive</td>\n",
       "      <td>24</td>\n",
       "      <td>4</td>\n",
       "      <td>104</td>\n",
       "      <td>Alive</td>\n",
       "    </tr>\n",
       "    <tr>\n",
       "      <th>2154</th>\n",
       "      <td>69</td>\n",
       "      <td>White</td>\n",
       "      <td>Married</td>\n",
       "      <td>T1</td>\n",
       "      <td>N1</td>\n",
       "      <td>IIA</td>\n",
       "      <td>Well differentiated</td>\n",
       "      <td>1</td>\n",
       "      <td>Regional</td>\n",
       "      <td>16</td>\n",
       "      <td>Positive</td>\n",
       "      <td>Positive</td>\n",
       "      <td>2</td>\n",
       "      <td>1</td>\n",
       "      <td>78</td>\n",
       "      <td>Alive</td>\n",
       "    </tr>\n",
       "    <tr>\n",
       "      <th>149</th>\n",
       "      <td>59</td>\n",
       "      <td>White</td>\n",
       "      <td>Married</td>\n",
       "      <td>T2</td>\n",
       "      <td>N1</td>\n",
       "      <td>IIB</td>\n",
       "      <td>Moderately differentiated</td>\n",
       "      <td>2</td>\n",
       "      <td>Regional</td>\n",
       "      <td>25</td>\n",
       "      <td>Positive</td>\n",
       "      <td>Positive</td>\n",
       "      <td>13</td>\n",
       "      <td>3</td>\n",
       "      <td>82</td>\n",
       "      <td>Alive</td>\n",
       "    </tr>\n",
       "    <tr>\n",
       "      <th>2746</th>\n",
       "      <td>50</td>\n",
       "      <td>White</td>\n",
       "      <td>Single</td>\n",
       "      <td>T2</td>\n",
       "      <td>N2</td>\n",
       "      <td>IIIA</td>\n",
       "      <td>Moderately differentiated</td>\n",
       "      <td>2</td>\n",
       "      <td>Regional</td>\n",
       "      <td>26</td>\n",
       "      <td>Positive</td>\n",
       "      <td>Positive</td>\n",
       "      <td>6</td>\n",
       "      <td>6</td>\n",
       "      <td>98</td>\n",
       "      <td>Alive</td>\n",
       "    </tr>\n",
       "  </tbody>\n",
       "</table>\n",
       "</div>"
      ],
      "text/plain": [
       "      Age   Race Marital Status T Stage  N Stage 6th Stage  \\\n",
       "2455   50  White        Married       T3      N1      IIIA   \n",
       "350    44  White        Married       T3      N2      IIIA   \n",
       "2154   69  White        Married       T1      N1       IIA   \n",
       "149    59  White        Married       T2      N1       IIB   \n",
       "2746   50  White        Single        T2      N2      IIIA   \n",
       "\n",
       "                  differentiate Grade   A Stage  Tumor Size Estrogen Status  \\\n",
       "2455        Well differentiated     1  Regional          70        Positive   \n",
       "350   Moderately differentiated     2  Regional          52        Positive   \n",
       "2154        Well differentiated     1  Regional          16        Positive   \n",
       "149   Moderately differentiated     2  Regional          25        Positive   \n",
       "2746  Moderately differentiated     2  Regional          26        Positive   \n",
       "\n",
       "     Progesterone Status  Regional Node Examined  Reginol Node Positive  \\\n",
       "2455            Positive                      30                      3   \n",
       "350             Positive                      24                      4   \n",
       "2154            Positive                       2                      1   \n",
       "149             Positive                      13                      3   \n",
       "2746            Positive                       6                      6   \n",
       "\n",
       "      Survival Months Status  \n",
       "2455               84  Alive  \n",
       "350               104  Alive  \n",
       "2154               78  Alive  \n",
       "149                82  Alive  \n",
       "2746               98  Alive  "
      ]
     },
     "execution_count": 3,
     "metadata": {},
     "output_type": "execute_result"
    }
   ],
   "source": [
    "df= pd.read_csv(\"Breast_Cancer.csv\")\n",
    "df.sample(5)"
   ]
  },
  {
   "cell_type": "code",
   "execution_count": 4,
   "id": "7db91b9c",
   "metadata": {},
   "outputs": [
    {
     "name": "stdout",
     "output_type": "stream",
     "text": [
      "<class 'pandas.core.frame.DataFrame'>\n",
      "RangeIndex: 4024 entries, 0 to 4023\n",
      "Data columns (total 16 columns):\n",
      " #   Column                  Non-Null Count  Dtype \n",
      "---  ------                  --------------  ----- \n",
      " 0   Age                     4024 non-null   int64 \n",
      " 1   Race                    4024 non-null   object\n",
      " 2   Marital Status          4024 non-null   object\n",
      " 3   T Stage                 4024 non-null   object\n",
      " 4   N Stage                 4024 non-null   object\n",
      " 5   6th Stage               4024 non-null   object\n",
      " 6   differentiate           4024 non-null   object\n",
      " 7   Grade                   4024 non-null   object\n",
      " 8   A Stage                 4024 non-null   object\n",
      " 9   Tumor Size              4024 non-null   int64 \n",
      " 10  Estrogen Status         4024 non-null   object\n",
      " 11  Progesterone Status     4024 non-null   object\n",
      " 12  Regional Node Examined  4024 non-null   int64 \n",
      " 13  Reginol Node Positive   4024 non-null   int64 \n",
      " 14  Survival Months         4024 non-null   int64 \n",
      " 15  Status                  4024 non-null   object\n",
      "dtypes: int64(5), object(11)\n",
      "memory usage: 503.1+ KB\n"
     ]
    }
   ],
   "source": [
    "df.info()"
   ]
  },
  {
   "cell_type": "markdown",
   "id": "e5e12bf4",
   "metadata": {},
   "source": [
    "# Get Unique Values"
   ]
  },
  {
   "cell_type": "code",
   "execution_count": 5,
   "id": "f9c6586c",
   "metadata": {},
   "outputs": [
    {
     "data": {
      "text/plain": [
       "array([68, 50, 58, 47, 51, 40, 69, 46, 65, 48, 62, 61, 56, 43, 60, 57, 55,\n",
       "       63, 66, 53, 59, 54, 49, 64, 42, 37, 67, 31, 52, 33, 45, 38, 39, 36,\n",
       "       41, 44, 32, 34, 35, 30], dtype=int64)"
      ]
     },
     "execution_count": 5,
     "metadata": {},
     "output_type": "execute_result"
    }
   ],
   "source": [
    "df['Age'].unique()"
   ]
  },
  {
   "cell_type": "code",
   "execution_count": 6,
   "id": "fb9e680b",
   "metadata": {},
   "outputs": [
    {
     "data": {
      "text/plain": [
       "array(['White', 'Black', 'Other'], dtype=object)"
      ]
     },
     "execution_count": 6,
     "metadata": {},
     "output_type": "execute_result"
    }
   ],
   "source": [
    "df['Race'].unique()"
   ]
  },
  {
   "cell_type": "code",
   "execution_count": 7,
   "id": "bebe389a",
   "metadata": {},
   "outputs": [
    {
     "data": {
      "text/plain": [
       "array(['Married', 'Divorced', 'Single ', 'Widowed', 'Separated'],\n",
       "      dtype=object)"
      ]
     },
     "execution_count": 7,
     "metadata": {},
     "output_type": "execute_result"
    }
   ],
   "source": [
    "df['Marital Status'].unique()"
   ]
  },
  {
   "cell_type": "code",
   "execution_count": 8,
   "id": "83e4c987",
   "metadata": {},
   "outputs": [
    {
     "data": {
      "text/plain": [
       "array(['N1', 'N2', 'N3'], dtype=object)"
      ]
     },
     "execution_count": 8,
     "metadata": {},
     "output_type": "execute_result"
    }
   ],
   "source": [
    "df['N Stage'].unique()"
   ]
  },
  {
   "cell_type": "code",
   "execution_count": 9,
   "id": "81b0bbf2",
   "metadata": {},
   "outputs": [
    {
     "data": {
      "text/plain": [
       "array(['IIA', 'IIIA', 'IIIC', 'IIB', 'IIIB'], dtype=object)"
      ]
     },
     "execution_count": 9,
     "metadata": {},
     "output_type": "execute_result"
    }
   ],
   "source": [
    "df['6th Stage'].unique()"
   ]
  },
  {
   "cell_type": "code",
   "execution_count": 10,
   "id": "31732271",
   "metadata": {},
   "outputs": [
    {
     "data": {
      "text/plain": [
       "array(['Poorly differentiated', 'Moderately differentiated',\n",
       "       'Well differentiated', 'Undifferentiated'], dtype=object)"
      ]
     },
     "execution_count": 10,
     "metadata": {},
     "output_type": "execute_result"
    }
   ],
   "source": [
    "df['differentiate'].unique()"
   ]
  },
  {
   "cell_type": "code",
   "execution_count": 11,
   "id": "8e6a196e",
   "metadata": {},
   "outputs": [
    {
     "data": {
      "text/plain": [
       "array(['3', '2', '1', ' anaplastic; Grade IV'], dtype=object)"
      ]
     },
     "execution_count": 11,
     "metadata": {},
     "output_type": "execute_result"
    }
   ],
   "source": [
    "df['Grade'].unique()"
   ]
  },
  {
   "cell_type": "code",
   "execution_count": 12,
   "id": "1d0e485d",
   "metadata": {},
   "outputs": [
    {
     "data": {
      "text/plain": [
       "array(['Regional', 'Distant'], dtype=object)"
      ]
     },
     "execution_count": 12,
     "metadata": {},
     "output_type": "execute_result"
    }
   ],
   "source": [
    "df['A Stage'].unique()"
   ]
  },
  {
   "cell_type": "code",
   "execution_count": 13,
   "id": "76f3b0ef",
   "metadata": {},
   "outputs": [
    {
     "data": {
      "text/plain": [
       "array([  4,  35,  63,  18,  41,  20,   8,  30, 103,  32,  13,  59,  15,\n",
       "        19,  46,  24,  25,  29,  40,  70,  22,  50,  17,  21,  10,  27,\n",
       "        23,   5,  51,   9,  55, 120,  77,   2,  11,  12,  26,  75, 130,\n",
       "        34,  80,   3,  60,  14,  16,  45,  36,  76,  38,  49,   7,  72,\n",
       "       100,  43,  62,  37,  68,  52,  85,  57,  39,  28,  48, 110,  65,\n",
       "         6, 105, 140,  42,  31,  90, 108,  98,  47,  54,  61,  74,  33,\n",
       "         1,  87,  81,  58, 117,  44, 123, 133,  95, 107,  92,  69,  56,\n",
       "        82,  66,  78,  97,  88,  53,  83, 101,  84, 115,  73, 125, 104,\n",
       "        94,  86,  64,  96,  79,  67], dtype=int64)"
      ]
     },
     "execution_count": 13,
     "metadata": {},
     "output_type": "execute_result"
    }
   ],
   "source": [
    "df['Tumor Size'].unique()"
   ]
  },
  {
   "cell_type": "code",
   "execution_count": 14,
   "id": "ecf814aa",
   "metadata": {},
   "outputs": [
    {
     "data": {
      "text/plain": [
       "array(['Positive', 'Negative'], dtype=object)"
      ]
     },
     "execution_count": 14,
     "metadata": {},
     "output_type": "execute_result"
    }
   ],
   "source": [
    "df['Estrogen Status'].unique()"
   ]
  },
  {
   "cell_type": "code",
   "execution_count": 15,
   "id": "a5815390",
   "metadata": {},
   "outputs": [
    {
     "data": {
      "text/plain": [
       "array(['Positive', 'Negative'], dtype=object)"
      ]
     },
     "execution_count": 15,
     "metadata": {},
     "output_type": "execute_result"
    }
   ],
   "source": [
    "df['Progesterone Status'].unique()"
   ]
  },
  {
   "cell_type": "code",
   "execution_count": 16,
   "id": "cbd946bd",
   "metadata": {},
   "outputs": [
    {
     "data": {
      "text/plain": [
       "array([ 1,  5,  7,  2, 18, 12,  3, 14, 22, 17, 23,  4, 10,  6,  9,  8, 20,\n",
       "       16, 13, 11, 24, 27, 21, 26, 15, 28, 19, 29, 31, 46, 33, 37, 30, 35,\n",
       "       25, 32, 41, 34], dtype=int64)"
      ]
     },
     "execution_count": 16,
     "metadata": {},
     "output_type": "execute_result"
    }
   ],
   "source": [
    "df['Reginol Node Positive'].unique()"
   ]
  },
  {
   "cell_type": "code",
   "execution_count": 17,
   "id": "8067f6c8",
   "metadata": {},
   "outputs": [
    {
     "data": {
      "text/plain": [
       "array([ 60,  62,  75,  84,  50,  89,  54,  14,  70,  92,  64,  56,  38,\n",
       "        49, 105, 107,  77,  81,  78, 102,  98,  82,  86,  52,  90,  31,\n",
       "        37, 103,  42,  61,  63,  39,  59,  71,  74,  73,  91, 106,  80,\n",
       "        44,  85,  79, 104,  12,  95,  55, 101,  65,  72,  57,  87,  40,\n",
       "        25,   8,  53,  58,  24,  66,  69,  93,  94, 100,  96,  41,  67,\n",
       "        51,  13,  11,  47,  23,  45,  68,  76,  15,  16,  99,   7,  48,\n",
       "        88,  34,  97,  83,  17,   3,  22,  30,   6,  32,   9,   5,  10,\n",
       "        19,  18,  35,  27,  36,   4,  29,  33,  26,  20,  28,  43,   1,\n",
       "        46,  21,   2], dtype=int64)"
      ]
     },
     "execution_count": 17,
     "metadata": {},
     "output_type": "execute_result"
    }
   ],
   "source": [
    "df['Survival Months'].unique()"
   ]
  },
  {
   "cell_type": "code",
   "execution_count": 18,
   "id": "5db867d6",
   "metadata": {},
   "outputs": [
    {
     "data": {
      "text/plain": [
       "array(['Alive', 'Dead'], dtype=object)"
      ]
     },
     "execution_count": 18,
     "metadata": {},
     "output_type": "execute_result"
    }
   ],
   "source": [
    "df['Status'].unique()"
   ]
  },
  {
   "cell_type": "markdown",
   "id": "060f3988",
   "metadata": {},
   "source": [
    "# preprocessing"
   ]
  },
  {
   "cell_type": "code",
   "execution_count": 19,
   "id": "3d11c1b4",
   "metadata": {},
   "outputs": [],
   "source": [
    "df.drop('Race', axis='columns', inplace=True)"
   ]
  },
  {
   "cell_type": "code",
   "execution_count": 20,
   "id": "1d0c9267",
   "metadata": {},
   "outputs": [],
   "source": [
    "df.drop('Marital Status', axis='columns', inplace=True)"
   ]
  },
  {
   "cell_type": "code",
   "execution_count": 21,
   "id": "3962d5db",
   "metadata": {},
   "outputs": [],
   "source": [
    "df.drop('Survival Months', axis='columns', inplace=True)"
   ]
  },
  {
   "cell_type": "code",
   "execution_count": 22,
   "id": "c94410be",
   "metadata": {},
   "outputs": [
    {
     "data": {
      "text/plain": [
       "Age                        int64\n",
       "T Stage                   object\n",
       "N Stage                   object\n",
       "6th Stage                 object\n",
       "differentiate             object\n",
       "Grade                     object\n",
       "A Stage                   object\n",
       "Tumor Size                 int64\n",
       "Estrogen Status           object\n",
       "Progesterone Status       object\n",
       "Regional Node Examined     int64\n",
       "Reginol Node Positive      int64\n",
       "Status                    object\n",
       "dtype: object"
      ]
     },
     "execution_count": 22,
     "metadata": {},
     "output_type": "execute_result"
    }
   ],
   "source": [
    "df.dtypes"
   ]
  },
  {
   "cell_type": "code",
   "execution_count": 23,
   "id": "8b4202e5",
   "metadata": {},
   "outputs": [
    {
     "data": {
      "text/plain": [
       "array(['3', '2', '1', ' anaplastic; Grade IV'], dtype=object)"
      ]
     },
     "execution_count": 23,
     "metadata": {},
     "output_type": "execute_result"
    }
   ],
   "source": [
    "df.Grade.unique()"
   ]
  },
  {
   "cell_type": "code",
   "execution_count": 24,
   "id": "3dd5b3ba",
   "metadata": {},
   "outputs": [],
   "source": [
    "df['Grade'] = df['Grade'].str.replace(\"anaplastic; Grade IV\",'4')"
   ]
  },
  {
   "cell_type": "code",
   "execution_count": 25,
   "id": "acf8622a",
   "metadata": {},
   "outputs": [
    {
     "data": {
      "text/plain": [
       "Age                        int64\n",
       "T Stage                   object\n",
       "N Stage                   object\n",
       "6th Stage                 object\n",
       "differentiate             object\n",
       "Grade                     object\n",
       "A Stage                   object\n",
       "Tumor Size                 int64\n",
       "Estrogen Status           object\n",
       "Progesterone Status       object\n",
       "Regional Node Examined     int64\n",
       "Reginol Node Positive      int64\n",
       "Status                    object\n",
       "dtype: object"
      ]
     },
     "execution_count": 25,
     "metadata": {},
     "output_type": "execute_result"
    }
   ],
   "source": [
    "df.dtypes"
   ]
  },
  {
   "cell_type": "code",
   "execution_count": 26,
   "id": "e291c3bc",
   "metadata": {},
   "outputs": [],
   "source": [
    "def print_unique_col_value(df):\n",
    "    for column in df:\n",
    "        if df[column].dtypes=='object':\n",
    "            print(f'{column}:{df[column].unique()}')"
   ]
  },
  {
   "cell_type": "code",
   "execution_count": 27,
   "id": "db0d4a68",
   "metadata": {},
   "outputs": [
    {
     "name": "stdout",
     "output_type": "stream",
     "text": [
      "T Stage :['T1' 'T2' 'T3' 'T4']\n",
      "N Stage:['N1' 'N2' 'N3']\n",
      "6th Stage:['IIA' 'IIIA' 'IIIC' 'IIB' 'IIIB']\n",
      "differentiate:['Poorly differentiated' 'Moderately differentiated' 'Well differentiated'\n",
      " 'Undifferentiated']\n",
      "Grade:['3' '2' '1' ' 4']\n",
      "A Stage:['Regional' 'Distant']\n",
      "Estrogen Status:['Positive' 'Negative']\n",
      "Progesterone Status:['Positive' 'Negative']\n",
      "Status:['Alive' 'Dead']\n"
     ]
    }
   ],
   "source": [
    "print_unique_col_value(df)"
   ]
  },
  {
   "cell_type": "code",
   "execution_count": 28,
   "id": "c4e9fda5",
   "metadata": {},
   "outputs": [],
   "source": [
    "df['A Stage'].replace({'Regional':1, 'Distant':0},inplace= True)"
   ]
  },
  {
   "cell_type": "code",
   "execution_count": 29,
   "id": "76b49725",
   "metadata": {},
   "outputs": [],
   "source": [
    "df['Estrogen Status'].replace({'Positive':1, 'Negative':0},inplace= True)"
   ]
  },
  {
   "cell_type": "code",
   "execution_count": 30,
   "id": "4ed67ec7",
   "metadata": {},
   "outputs": [],
   "source": [
    "df['Progesterone Status'].replace({'Positive':1, 'Negative':0},inplace= True)"
   ]
  },
  {
   "cell_type": "code",
   "execution_count": 31,
   "id": "db8bdd91",
   "metadata": {},
   "outputs": [],
   "source": [
    "df['Status'].replace({'Alive':1, 'Dead':0},inplace= True)"
   ]
  },
  {
   "cell_type": "code",
   "execution_count": 32,
   "id": "f3e5600c",
   "metadata": {},
   "outputs": [
    {
     "name": "stdout",
     "output_type": "stream",
     "text": [
      "T Stage :['T1' 'T2' 'T3' 'T4']\n",
      "N Stage:['N1' 'N2' 'N3']\n",
      "6th Stage:['IIA' 'IIIA' 'IIIC' 'IIB' 'IIIB']\n",
      "differentiate:['Poorly differentiated' 'Moderately differentiated' 'Well differentiated'\n",
      " 'Undifferentiated']\n",
      "Grade:['3' '2' '1' ' 4']\n"
     ]
    }
   ],
   "source": [
    "print_unique_col_value(df)"
   ]
  },
  {
   "cell_type": "code",
   "execution_count": 33,
   "id": "6a8d4973",
   "metadata": {},
   "outputs": [],
   "source": [
    "df.rename(columns={\"T Stage \": \"T Stage\"}, inplace=True)"
   ]
  },
  {
   "cell_type": "code",
   "execution_count": 34,
   "id": "122672cf",
   "metadata": {},
   "outputs": [],
   "source": [
    "df1=pd.get_dummies(data=df,columns=['T Stage','N Stage','6th Stage','differentiate','Grade'])"
   ]
  },
  {
   "cell_type": "code",
   "execution_count": 35,
   "id": "e9e69723",
   "metadata": {},
   "outputs": [
    {
     "data": {
      "text/plain": [
       "Index(['Age', 'A Stage', 'Tumor Size', 'Estrogen Status',\n",
       "       'Progesterone Status', 'Regional Node Examined',\n",
       "       'Reginol Node Positive', 'Status', 'T Stage_T1', 'T Stage_T2',\n",
       "       'T Stage_T3', 'T Stage_T4', 'N Stage_N1', 'N Stage_N2', 'N Stage_N3',\n",
       "       '6th Stage_IIA', '6th Stage_IIB', '6th Stage_IIIA', '6th Stage_IIIB',\n",
       "       '6th Stage_IIIC', 'differentiate_Moderately differentiated',\n",
       "       'differentiate_Poorly differentiated', 'differentiate_Undifferentiated',\n",
       "       'differentiate_Well differentiated', 'Grade_ 4', 'Grade_1', 'Grade_2',\n",
       "       'Grade_3'],\n",
       "      dtype='object')"
      ]
     },
     "execution_count": 35,
     "metadata": {},
     "output_type": "execute_result"
    }
   ],
   "source": [
    "df1.columns"
   ]
  },
  {
   "cell_type": "code",
   "execution_count": 36,
   "id": "bfb1c573",
   "metadata": {},
   "outputs": [
    {
     "data": {
      "text/html": [
       "<div>\n",
       "<style scoped>\n",
       "    .dataframe tbody tr th:only-of-type {\n",
       "        vertical-align: middle;\n",
       "    }\n",
       "\n",
       "    .dataframe tbody tr th {\n",
       "        vertical-align: top;\n",
       "    }\n",
       "\n",
       "    .dataframe thead th {\n",
       "        text-align: right;\n",
       "    }\n",
       "</style>\n",
       "<table border=\"1\" class=\"dataframe\">\n",
       "  <thead>\n",
       "    <tr style=\"text-align: right;\">\n",
       "      <th></th>\n",
       "      <th>Age</th>\n",
       "      <th>A Stage</th>\n",
       "      <th>Tumor Size</th>\n",
       "      <th>Estrogen Status</th>\n",
       "      <th>Progesterone Status</th>\n",
       "      <th>Regional Node Examined</th>\n",
       "      <th>Reginol Node Positive</th>\n",
       "      <th>Status</th>\n",
       "      <th>T Stage_T1</th>\n",
       "      <th>T Stage_T2</th>\n",
       "      <th>...</th>\n",
       "      <th>6th Stage_IIIB</th>\n",
       "      <th>6th Stage_IIIC</th>\n",
       "      <th>differentiate_Moderately differentiated</th>\n",
       "      <th>differentiate_Poorly differentiated</th>\n",
       "      <th>differentiate_Undifferentiated</th>\n",
       "      <th>differentiate_Well differentiated</th>\n",
       "      <th>Grade_ 4</th>\n",
       "      <th>Grade_1</th>\n",
       "      <th>Grade_2</th>\n",
       "      <th>Grade_3</th>\n",
       "    </tr>\n",
       "  </thead>\n",
       "  <tbody>\n",
       "    <tr>\n",
       "      <th>3165</th>\n",
       "      <td>56</td>\n",
       "      <td>1</td>\n",
       "      <td>32</td>\n",
       "      <td>0</td>\n",
       "      <td>0</td>\n",
       "      <td>24</td>\n",
       "      <td>5</td>\n",
       "      <td>1</td>\n",
       "      <td>0</td>\n",
       "      <td>1</td>\n",
       "      <td>...</td>\n",
       "      <td>0</td>\n",
       "      <td>0</td>\n",
       "      <td>0</td>\n",
       "      <td>1</td>\n",
       "      <td>0</td>\n",
       "      <td>0</td>\n",
       "      <td>0</td>\n",
       "      <td>0</td>\n",
       "      <td>0</td>\n",
       "      <td>1</td>\n",
       "    </tr>\n",
       "    <tr>\n",
       "      <th>1129</th>\n",
       "      <td>51</td>\n",
       "      <td>1</td>\n",
       "      <td>18</td>\n",
       "      <td>1</td>\n",
       "      <td>1</td>\n",
       "      <td>2</td>\n",
       "      <td>2</td>\n",
       "      <td>1</td>\n",
       "      <td>1</td>\n",
       "      <td>0</td>\n",
       "      <td>...</td>\n",
       "      <td>0</td>\n",
       "      <td>0</td>\n",
       "      <td>0</td>\n",
       "      <td>1</td>\n",
       "      <td>0</td>\n",
       "      <td>0</td>\n",
       "      <td>0</td>\n",
       "      <td>0</td>\n",
       "      <td>0</td>\n",
       "      <td>1</td>\n",
       "    </tr>\n",
       "    <tr>\n",
       "      <th>93</th>\n",
       "      <td>45</td>\n",
       "      <td>1</td>\n",
       "      <td>25</td>\n",
       "      <td>1</td>\n",
       "      <td>1</td>\n",
       "      <td>21</td>\n",
       "      <td>16</td>\n",
       "      <td>0</td>\n",
       "      <td>0</td>\n",
       "      <td>1</td>\n",
       "      <td>...</td>\n",
       "      <td>0</td>\n",
       "      <td>1</td>\n",
       "      <td>0</td>\n",
       "      <td>1</td>\n",
       "      <td>0</td>\n",
       "      <td>0</td>\n",
       "      <td>0</td>\n",
       "      <td>0</td>\n",
       "      <td>0</td>\n",
       "      <td>1</td>\n",
       "    </tr>\n",
       "    <tr>\n",
       "      <th>391</th>\n",
       "      <td>55</td>\n",
       "      <td>1</td>\n",
       "      <td>70</td>\n",
       "      <td>1</td>\n",
       "      <td>1</td>\n",
       "      <td>14</td>\n",
       "      <td>12</td>\n",
       "      <td>1</td>\n",
       "      <td>0</td>\n",
       "      <td>0</td>\n",
       "      <td>...</td>\n",
       "      <td>0</td>\n",
       "      <td>0</td>\n",
       "      <td>1</td>\n",
       "      <td>0</td>\n",
       "      <td>0</td>\n",
       "      <td>0</td>\n",
       "      <td>0</td>\n",
       "      <td>0</td>\n",
       "      <td>1</td>\n",
       "      <td>0</td>\n",
       "    </tr>\n",
       "    <tr>\n",
       "      <th>1126</th>\n",
       "      <td>47</td>\n",
       "      <td>1</td>\n",
       "      <td>15</td>\n",
       "      <td>1</td>\n",
       "      <td>1</td>\n",
       "      <td>4</td>\n",
       "      <td>1</td>\n",
       "      <td>0</td>\n",
       "      <td>1</td>\n",
       "      <td>0</td>\n",
       "      <td>...</td>\n",
       "      <td>0</td>\n",
       "      <td>0</td>\n",
       "      <td>0</td>\n",
       "      <td>1</td>\n",
       "      <td>0</td>\n",
       "      <td>0</td>\n",
       "      <td>0</td>\n",
       "      <td>0</td>\n",
       "      <td>0</td>\n",
       "      <td>1</td>\n",
       "    </tr>\n",
       "  </tbody>\n",
       "</table>\n",
       "<p>5 rows × 28 columns</p>\n",
       "</div>"
      ],
      "text/plain": [
       "      Age  A Stage  Tumor Size  Estrogen Status  Progesterone Status  \\\n",
       "3165   56        1          32                0                    0   \n",
       "1129   51        1          18                1                    1   \n",
       "93     45        1          25                1                    1   \n",
       "391    55        1          70                1                    1   \n",
       "1126   47        1          15                1                    1   \n",
       "\n",
       "      Regional Node Examined  Reginol Node Positive  Status  T Stage_T1  \\\n",
       "3165                      24                      5       1           0   \n",
       "1129                       2                      2       1           1   \n",
       "93                        21                     16       0           0   \n",
       "391                       14                     12       1           0   \n",
       "1126                       4                      1       0           1   \n",
       "\n",
       "      T Stage_T2  ...  6th Stage_IIIB  6th Stage_IIIC  \\\n",
       "3165           1  ...               0               0   \n",
       "1129           0  ...               0               0   \n",
       "93             1  ...               0               1   \n",
       "391            0  ...               0               0   \n",
       "1126           0  ...               0               0   \n",
       "\n",
       "      differentiate_Moderately differentiated  \\\n",
       "3165                                        0   \n",
       "1129                                        0   \n",
       "93                                          0   \n",
       "391                                         1   \n",
       "1126                                        0   \n",
       "\n",
       "      differentiate_Poorly differentiated  differentiate_Undifferentiated  \\\n",
       "3165                                    1                               0   \n",
       "1129                                    1                               0   \n",
       "93                                      1                               0   \n",
       "391                                     0                               0   \n",
       "1126                                    1                               0   \n",
       "\n",
       "      differentiate_Well differentiated  Grade_ 4  Grade_1  Grade_2  Grade_3  \n",
       "3165                                  0         0        0        0        1  \n",
       "1129                                  0         0        0        0        1  \n",
       "93                                    0         0        0        0        1  \n",
       "391                                   0         0        0        1        0  \n",
       "1126                                  0         0        0        0        1  \n",
       "\n",
       "[5 rows x 28 columns]"
      ]
     },
     "execution_count": 36,
     "metadata": {},
     "output_type": "execute_result"
    }
   ],
   "source": [
    "df1.sample(5)"
   ]
  },
  {
   "cell_type": "code",
   "execution_count": 37,
   "id": "65ac11c8",
   "metadata": {},
   "outputs": [
    {
     "data": {
      "text/plain": [
       "Age                                        int64\n",
       "A Stage                                    int64\n",
       "Tumor Size                                 int64\n",
       "Estrogen Status                            int64\n",
       "Progesterone Status                        int64\n",
       "Regional Node Examined                     int64\n",
       "Reginol Node Positive                      int64\n",
       "Status                                     int64\n",
       "T Stage_T1                                 uint8\n",
       "T Stage_T2                                 uint8\n",
       "T Stage_T3                                 uint8\n",
       "T Stage_T4                                 uint8\n",
       "N Stage_N1                                 uint8\n",
       "N Stage_N2                                 uint8\n",
       "N Stage_N3                                 uint8\n",
       "6th Stage_IIA                              uint8\n",
       "6th Stage_IIB                              uint8\n",
       "6th Stage_IIIA                             uint8\n",
       "6th Stage_IIIB                             uint8\n",
       "6th Stage_IIIC                             uint8\n",
       "differentiate_Moderately differentiated    uint8\n",
       "differentiate_Poorly differentiated        uint8\n",
       "differentiate_Undifferentiated             uint8\n",
       "differentiate_Well differentiated          uint8\n",
       "Grade_ 4                                   uint8\n",
       "Grade_1                                    uint8\n",
       "Grade_2                                    uint8\n",
       "Grade_3                                    uint8\n",
       "dtype: object"
      ]
     },
     "execution_count": 37,
     "metadata": {},
     "output_type": "execute_result"
    }
   ],
   "source": [
    "df1.dtypes"
   ]
  },
  {
   "cell_type": "code",
   "execution_count": 38,
   "id": "3603ed87",
   "metadata": {},
   "outputs": [],
   "source": [
    "x= df1.drop('Status',axis='columns')\n",
    "y= df1['Status']"
   ]
  },
  {
   "cell_type": "code",
   "execution_count": 39,
   "id": "d4ace326",
   "metadata": {},
   "outputs": [],
   "source": [
    "from sklearn.model_selection import train_test_split\n",
    "x_train,x_test, y_train, y_test= train_test_split(x,y, test_size=0.2, random_state=5)"
   ]
  },
  {
   "cell_type": "code",
   "execution_count": 40,
   "id": "da7d1756",
   "metadata": {},
   "outputs": [
    {
     "data": {
      "text/plain": [
       "(3219, 27)"
      ]
     },
     "execution_count": 40,
     "metadata": {},
     "output_type": "execute_result"
    }
   ],
   "source": [
    "x_train.shape"
   ]
  },
  {
   "cell_type": "code",
   "execution_count": 41,
   "id": "49f86aa1",
   "metadata": {},
   "outputs": [
    {
     "data": {
      "text/plain": [
       "(805, 27)"
      ]
     },
     "execution_count": 41,
     "metadata": {},
     "output_type": "execute_result"
    }
   ],
   "source": [
    "x_test.shape"
   ]
  },
  {
   "cell_type": "code",
   "execution_count": 42,
   "id": "7432b278",
   "metadata": {},
   "outputs": [
    {
     "data": {
      "text/plain": [
       "27"
      ]
     },
     "execution_count": 42,
     "metadata": {},
     "output_type": "execute_result"
    }
   ],
   "source": [
    "len(x_train.columns)"
   ]
  },
  {
   "cell_type": "code",
   "execution_count": 43,
   "id": "34373fb3",
   "metadata": {},
   "outputs": [
    {
     "data": {
      "text/html": [
       "<div>\n",
       "<style scoped>\n",
       "    .dataframe tbody tr th:only-of-type {\n",
       "        vertical-align: middle;\n",
       "    }\n",
       "\n",
       "    .dataframe tbody tr th {\n",
       "        vertical-align: top;\n",
       "    }\n",
       "\n",
       "    .dataframe thead th {\n",
       "        text-align: right;\n",
       "    }\n",
       "</style>\n",
       "<table border=\"1\" class=\"dataframe\">\n",
       "  <thead>\n",
       "    <tr style=\"text-align: right;\">\n",
       "      <th></th>\n",
       "      <th>Age</th>\n",
       "      <th>A Stage</th>\n",
       "      <th>Tumor Size</th>\n",
       "      <th>Estrogen Status</th>\n",
       "      <th>Progesterone Status</th>\n",
       "      <th>Regional Node Examined</th>\n",
       "      <th>Reginol Node Positive</th>\n",
       "      <th>T Stage_T1</th>\n",
       "      <th>T Stage_T2</th>\n",
       "      <th>T Stage_T3</th>\n",
       "      <th>...</th>\n",
       "      <th>6th Stage_IIIB</th>\n",
       "      <th>6th Stage_IIIC</th>\n",
       "      <th>differentiate_Moderately differentiated</th>\n",
       "      <th>differentiate_Poorly differentiated</th>\n",
       "      <th>differentiate_Undifferentiated</th>\n",
       "      <th>differentiate_Well differentiated</th>\n",
       "      <th>Grade_ 4</th>\n",
       "      <th>Grade_1</th>\n",
       "      <th>Grade_2</th>\n",
       "      <th>Grade_3</th>\n",
       "    </tr>\n",
       "  </thead>\n",
       "  <tbody>\n",
       "    <tr>\n",
       "      <th>626</th>\n",
       "      <td>53</td>\n",
       "      <td>1</td>\n",
       "      <td>18</td>\n",
       "      <td>1</td>\n",
       "      <td>1</td>\n",
       "      <td>17</td>\n",
       "      <td>8</td>\n",
       "      <td>1</td>\n",
       "      <td>0</td>\n",
       "      <td>0</td>\n",
       "      <td>...</td>\n",
       "      <td>0</td>\n",
       "      <td>0</td>\n",
       "      <td>0</td>\n",
       "      <td>1</td>\n",
       "      <td>0</td>\n",
       "      <td>0</td>\n",
       "      <td>0</td>\n",
       "      <td>0</td>\n",
       "      <td>0</td>\n",
       "      <td>1</td>\n",
       "    </tr>\n",
       "    <tr>\n",
       "      <th>1903</th>\n",
       "      <td>43</td>\n",
       "      <td>1</td>\n",
       "      <td>11</td>\n",
       "      <td>1</td>\n",
       "      <td>1</td>\n",
       "      <td>25</td>\n",
       "      <td>2</td>\n",
       "      <td>1</td>\n",
       "      <td>0</td>\n",
       "      <td>0</td>\n",
       "      <td>...</td>\n",
       "      <td>0</td>\n",
       "      <td>0</td>\n",
       "      <td>1</td>\n",
       "      <td>0</td>\n",
       "      <td>0</td>\n",
       "      <td>0</td>\n",
       "      <td>0</td>\n",
       "      <td>0</td>\n",
       "      <td>1</td>\n",
       "      <td>0</td>\n",
       "    </tr>\n",
       "    <tr>\n",
       "      <th>1517</th>\n",
       "      <td>55</td>\n",
       "      <td>1</td>\n",
       "      <td>10</td>\n",
       "      <td>1</td>\n",
       "      <td>1</td>\n",
       "      <td>14</td>\n",
       "      <td>1</td>\n",
       "      <td>1</td>\n",
       "      <td>0</td>\n",
       "      <td>0</td>\n",
       "      <td>...</td>\n",
       "      <td>0</td>\n",
       "      <td>0</td>\n",
       "      <td>1</td>\n",
       "      <td>0</td>\n",
       "      <td>0</td>\n",
       "      <td>0</td>\n",
       "      <td>0</td>\n",
       "      <td>0</td>\n",
       "      <td>1</td>\n",
       "      <td>0</td>\n",
       "    </tr>\n",
       "    <tr>\n",
       "      <th>1015</th>\n",
       "      <td>32</td>\n",
       "      <td>1</td>\n",
       "      <td>30</td>\n",
       "      <td>0</td>\n",
       "      <td>0</td>\n",
       "      <td>3</td>\n",
       "      <td>1</td>\n",
       "      <td>0</td>\n",
       "      <td>1</td>\n",
       "      <td>0</td>\n",
       "      <td>...</td>\n",
       "      <td>0</td>\n",
       "      <td>0</td>\n",
       "      <td>0</td>\n",
       "      <td>1</td>\n",
       "      <td>0</td>\n",
       "      <td>0</td>\n",
       "      <td>0</td>\n",
       "      <td>0</td>\n",
       "      <td>0</td>\n",
       "      <td>1</td>\n",
       "    </tr>\n",
       "    <tr>\n",
       "      <th>1433</th>\n",
       "      <td>47</td>\n",
       "      <td>1</td>\n",
       "      <td>28</td>\n",
       "      <td>1</td>\n",
       "      <td>1</td>\n",
       "      <td>23</td>\n",
       "      <td>16</td>\n",
       "      <td>0</td>\n",
       "      <td>1</td>\n",
       "      <td>0</td>\n",
       "      <td>...</td>\n",
       "      <td>0</td>\n",
       "      <td>1</td>\n",
       "      <td>1</td>\n",
       "      <td>0</td>\n",
       "      <td>0</td>\n",
       "      <td>0</td>\n",
       "      <td>0</td>\n",
       "      <td>0</td>\n",
       "      <td>1</td>\n",
       "      <td>0</td>\n",
       "    </tr>\n",
       "    <tr>\n",
       "      <th>1394</th>\n",
       "      <td>60</td>\n",
       "      <td>1</td>\n",
       "      <td>27</td>\n",
       "      <td>1</td>\n",
       "      <td>1</td>\n",
       "      <td>10</td>\n",
       "      <td>4</td>\n",
       "      <td>0</td>\n",
       "      <td>1</td>\n",
       "      <td>0</td>\n",
       "      <td>...</td>\n",
       "      <td>0</td>\n",
       "      <td>0</td>\n",
       "      <td>0</td>\n",
       "      <td>1</td>\n",
       "      <td>0</td>\n",
       "      <td>0</td>\n",
       "      <td>0</td>\n",
       "      <td>0</td>\n",
       "      <td>0</td>\n",
       "      <td>1</td>\n",
       "    </tr>\n",
       "    <tr>\n",
       "      <th>496</th>\n",
       "      <td>57</td>\n",
       "      <td>1</td>\n",
       "      <td>17</td>\n",
       "      <td>1</td>\n",
       "      <td>1</td>\n",
       "      <td>23</td>\n",
       "      <td>1</td>\n",
       "      <td>1</td>\n",
       "      <td>0</td>\n",
       "      <td>0</td>\n",
       "      <td>...</td>\n",
       "      <td>0</td>\n",
       "      <td>0</td>\n",
       "      <td>1</td>\n",
       "      <td>0</td>\n",
       "      <td>0</td>\n",
       "      <td>0</td>\n",
       "      <td>0</td>\n",
       "      <td>0</td>\n",
       "      <td>1</td>\n",
       "      <td>0</td>\n",
       "    </tr>\n",
       "    <tr>\n",
       "      <th>2241</th>\n",
       "      <td>46</td>\n",
       "      <td>1</td>\n",
       "      <td>55</td>\n",
       "      <td>1</td>\n",
       "      <td>1</td>\n",
       "      <td>16</td>\n",
       "      <td>16</td>\n",
       "      <td>0</td>\n",
       "      <td>0</td>\n",
       "      <td>1</td>\n",
       "      <td>...</td>\n",
       "      <td>0</td>\n",
       "      <td>1</td>\n",
       "      <td>0</td>\n",
       "      <td>0</td>\n",
       "      <td>0</td>\n",
       "      <td>1</td>\n",
       "      <td>0</td>\n",
       "      <td>1</td>\n",
       "      <td>0</td>\n",
       "      <td>0</td>\n",
       "    </tr>\n",
       "    <tr>\n",
       "      <th>1006</th>\n",
       "      <td>44</td>\n",
       "      <td>1</td>\n",
       "      <td>21</td>\n",
       "      <td>1</td>\n",
       "      <td>1</td>\n",
       "      <td>5</td>\n",
       "      <td>1</td>\n",
       "      <td>0</td>\n",
       "      <td>1</td>\n",
       "      <td>0</td>\n",
       "      <td>...</td>\n",
       "      <td>0</td>\n",
       "      <td>0</td>\n",
       "      <td>0</td>\n",
       "      <td>1</td>\n",
       "      <td>0</td>\n",
       "      <td>0</td>\n",
       "      <td>0</td>\n",
       "      <td>0</td>\n",
       "      <td>0</td>\n",
       "      <td>1</td>\n",
       "    </tr>\n",
       "    <tr>\n",
       "      <th>878</th>\n",
       "      <td>50</td>\n",
       "      <td>1</td>\n",
       "      <td>60</td>\n",
       "      <td>1</td>\n",
       "      <td>1</td>\n",
       "      <td>10</td>\n",
       "      <td>2</td>\n",
       "      <td>0</td>\n",
       "      <td>0</td>\n",
       "      <td>1</td>\n",
       "      <td>...</td>\n",
       "      <td>0</td>\n",
       "      <td>0</td>\n",
       "      <td>0</td>\n",
       "      <td>1</td>\n",
       "      <td>0</td>\n",
       "      <td>0</td>\n",
       "      <td>0</td>\n",
       "      <td>0</td>\n",
       "      <td>0</td>\n",
       "      <td>1</td>\n",
       "    </tr>\n",
       "  </tbody>\n",
       "</table>\n",
       "<p>10 rows × 27 columns</p>\n",
       "</div>"
      ],
      "text/plain": [
       "      Age  A Stage  Tumor Size  Estrogen Status  Progesterone Status  \\\n",
       "626    53        1          18                1                    1   \n",
       "1903   43        1          11                1                    1   \n",
       "1517   55        1          10                1                    1   \n",
       "1015   32        1          30                0                    0   \n",
       "1433   47        1          28                1                    1   \n",
       "1394   60        1          27                1                    1   \n",
       "496    57        1          17                1                    1   \n",
       "2241   46        1          55                1                    1   \n",
       "1006   44        1          21                1                    1   \n",
       "878    50        1          60                1                    1   \n",
       "\n",
       "      Regional Node Examined  Reginol Node Positive  T Stage_T1  T Stage_T2  \\\n",
       "626                       17                      8           1           0   \n",
       "1903                      25                      2           1           0   \n",
       "1517                      14                      1           1           0   \n",
       "1015                       3                      1           0           1   \n",
       "1433                      23                     16           0           1   \n",
       "1394                      10                      4           0           1   \n",
       "496                       23                      1           1           0   \n",
       "2241                      16                     16           0           0   \n",
       "1006                       5                      1           0           1   \n",
       "878                       10                      2           0           0   \n",
       "\n",
       "      T Stage_T3  ...  6th Stage_IIIB  6th Stage_IIIC  \\\n",
       "626            0  ...               0               0   \n",
       "1903           0  ...               0               0   \n",
       "1517           0  ...               0               0   \n",
       "1015           0  ...               0               0   \n",
       "1433           0  ...               0               1   \n",
       "1394           0  ...               0               0   \n",
       "496            0  ...               0               0   \n",
       "2241           1  ...               0               1   \n",
       "1006           0  ...               0               0   \n",
       "878            1  ...               0               0   \n",
       "\n",
       "      differentiate_Moderately differentiated  \\\n",
       "626                                         0   \n",
       "1903                                        1   \n",
       "1517                                        1   \n",
       "1015                                        0   \n",
       "1433                                        1   \n",
       "1394                                        0   \n",
       "496                                         1   \n",
       "2241                                        0   \n",
       "1006                                        0   \n",
       "878                                         0   \n",
       "\n",
       "      differentiate_Poorly differentiated  differentiate_Undifferentiated  \\\n",
       "626                                     1                               0   \n",
       "1903                                    0                               0   \n",
       "1517                                    0                               0   \n",
       "1015                                    1                               0   \n",
       "1433                                    0                               0   \n",
       "1394                                    1                               0   \n",
       "496                                     0                               0   \n",
       "2241                                    0                               0   \n",
       "1006                                    1                               0   \n",
       "878                                     1                               0   \n",
       "\n",
       "      differentiate_Well differentiated  Grade_ 4  Grade_1  Grade_2  Grade_3  \n",
       "626                                   0         0        0        0        1  \n",
       "1903                                  0         0        0        1        0  \n",
       "1517                                  0         0        0        1        0  \n",
       "1015                                  0         0        0        0        1  \n",
       "1433                                  0         0        0        1        0  \n",
       "1394                                  0         0        0        0        1  \n",
       "496                                   0         0        0        1        0  \n",
       "2241                                  1         0        1        0        0  \n",
       "1006                                  0         0        0        0        1  \n",
       "878                                   0         0        0        0        1  \n",
       "\n",
       "[10 rows x 27 columns]"
      ]
     },
     "execution_count": 43,
     "metadata": {},
     "output_type": "execute_result"
    }
   ],
   "source": [
    "x_train[:10]"
   ]
  },
  {
   "cell_type": "markdown",
   "id": "4bf6d98f",
   "metadata": {},
   "source": [
    "# ## Creating Model"
   ]
  },
  {
   "cell_type": "code",
   "execution_count": 44,
   "id": "d2583819",
   "metadata": {},
   "outputs": [],
   "source": [
    "import tensorflow as tf\n",
    "from tensorflow import keras"
   ]
  },
  {
   "cell_type": "code",
   "execution_count": 45,
   "id": "42c4e446",
   "metadata": {},
   "outputs": [],
   "source": [
    "model = keras.Sequential([\n",
    "    \n",
    "    keras.layers.Dense(20, input_shape=(27,), activation='relu'),\n",
    "    keras.layers.Dense(1, activation='sigmoid')\n",
    "])"
   ]
  },
  {
   "cell_type": "code",
   "execution_count": 46,
   "id": "c6e13570",
   "metadata": {},
   "outputs": [],
   "source": [
    "model.compile(optimizer='adam',\n",
    "             loss='binary_crossentropy',\n",
    "             metrics=['accuracy'])"
   ]
  },
  {
   "cell_type": "code",
   "execution_count": 47,
   "id": "32449042",
   "metadata": {},
   "outputs": [
    {
     "name": "stdout",
     "output_type": "stream",
     "text": [
      "Epoch 1/150\n",
      "101/101 [==============================] - 1s 1ms/step - loss: 0.5064 - accuracy: 0.8267\n",
      "Epoch 2/150\n",
      "101/101 [==============================] - 0s 1ms/step - loss: 0.4214 - accuracy: 0.8490\n",
      "Epoch 3/150\n",
      "101/101 [==============================] - 0s 1ms/step - loss: 0.4061 - accuracy: 0.8465\n",
      "Epoch 4/150\n",
      "101/101 [==============================] - 0s 1ms/step - loss: 0.4045 - accuracy: 0.8481\n",
      "Epoch 5/150\n",
      "101/101 [==============================] - 0s 1ms/step - loss: 0.3987 - accuracy: 0.8509\n",
      "Epoch 6/150\n",
      "101/101 [==============================] - 0s 1ms/step - loss: 0.3944 - accuracy: 0.8493\n",
      "Epoch 7/150\n",
      "101/101 [==============================] - 0s 1ms/step - loss: 0.3883 - accuracy: 0.8543\n",
      "Epoch 8/150\n",
      "101/101 [==============================] - 0s 1ms/step - loss: 0.3933 - accuracy: 0.8506\n",
      "Epoch 9/150\n",
      "101/101 [==============================] - 0s 1ms/step - loss: 0.3861 - accuracy: 0.8512\n",
      "Epoch 10/150\n",
      "101/101 [==============================] - 0s 1ms/step - loss: 0.3847 - accuracy: 0.8521\n",
      "Epoch 11/150\n",
      "101/101 [==============================] - 0s 1ms/step - loss: 0.3826 - accuracy: 0.8512\n",
      "Epoch 12/150\n",
      "101/101 [==============================] - 0s 1ms/step - loss: 0.3782 - accuracy: 0.8574\n",
      "Epoch 13/150\n",
      "101/101 [==============================] - 0s 1ms/step - loss: 0.3804 - accuracy: 0.8531\n",
      "Epoch 14/150\n",
      "101/101 [==============================] - 0s 1ms/step - loss: 0.3779 - accuracy: 0.8540\n",
      "Epoch 15/150\n",
      "101/101 [==============================] - 0s 1ms/step - loss: 0.3740 - accuracy: 0.8552\n",
      "Epoch 16/150\n",
      "101/101 [==============================] - 0s 1ms/step - loss: 0.3760 - accuracy: 0.8552\n",
      "Epoch 17/150\n",
      "101/101 [==============================] - 0s 1ms/step - loss: 0.3771 - accuracy: 0.8534\n",
      "Epoch 18/150\n",
      "101/101 [==============================] - 0s 1ms/step - loss: 0.3757 - accuracy: 0.8527\n",
      "Epoch 19/150\n",
      "101/101 [==============================] - 0s 1ms/step - loss: 0.3759 - accuracy: 0.8583\n",
      "Epoch 20/150\n",
      "101/101 [==============================] - 0s 1ms/step - loss: 0.3734 - accuracy: 0.8568\n",
      "Epoch 21/150\n",
      "101/101 [==============================] - 0s 1ms/step - loss: 0.3807 - accuracy: 0.8543\n",
      "Epoch 22/150\n",
      "101/101 [==============================] - 0s 1ms/step - loss: 0.3748 - accuracy: 0.8521\n",
      "Epoch 23/150\n",
      "101/101 [==============================] - 0s 1ms/step - loss: 0.3803 - accuracy: 0.8534\n",
      "Epoch 24/150\n",
      "101/101 [==============================] - 0s 1ms/step - loss: 0.3763 - accuracy: 0.8540\n",
      "Epoch 25/150\n",
      "101/101 [==============================] - 0s 1ms/step - loss: 0.3717 - accuracy: 0.8565\n",
      "Epoch 26/150\n",
      "101/101 [==============================] - 0s 1ms/step - loss: 0.3728 - accuracy: 0.8571\n",
      "Epoch 27/150\n",
      "101/101 [==============================] - 0s 1ms/step - loss: 0.3738 - accuracy: 0.8577\n",
      "Epoch 28/150\n",
      "101/101 [==============================] - 0s 1ms/step - loss: 0.3775 - accuracy: 0.8565\n",
      "Epoch 29/150\n",
      "101/101 [==============================] - 0s 1ms/step - loss: 0.3704 - accuracy: 0.8574\n",
      "Epoch 30/150\n",
      "101/101 [==============================] - 0s 1ms/step - loss: 0.3731 - accuracy: 0.8574\n",
      "Epoch 31/150\n",
      "101/101 [==============================] - 0s 1ms/step - loss: 0.3743 - accuracy: 0.8583\n",
      "Epoch 32/150\n",
      "101/101 [==============================] - 0s 1ms/step - loss: 0.3820 - accuracy: 0.8549\n",
      "Epoch 33/150\n",
      "101/101 [==============================] - 0s 1ms/step - loss: 0.3730 - accuracy: 0.8565\n",
      "Epoch 34/150\n",
      "101/101 [==============================] - 0s 1ms/step - loss: 0.3728 - accuracy: 0.8593\n",
      "Epoch 35/150\n",
      "101/101 [==============================] - 0s 1ms/step - loss: 0.3693 - accuracy: 0.8599\n",
      "Epoch 36/150\n",
      "101/101 [==============================] - 0s 1ms/step - loss: 0.3705 - accuracy: 0.8559\n",
      "Epoch 37/150\n",
      "101/101 [==============================] - 0s 1ms/step - loss: 0.3686 - accuracy: 0.8574\n",
      "Epoch 38/150\n",
      "101/101 [==============================] - 0s 1ms/step - loss: 0.3726 - accuracy: 0.8559\n",
      "Epoch 39/150\n",
      "101/101 [==============================] - 0s 1ms/step - loss: 0.3717 - accuracy: 0.8580\n",
      "Epoch 40/150\n",
      "101/101 [==============================] - 0s 1ms/step - loss: 0.3706 - accuracy: 0.8512\n",
      "Epoch 41/150\n",
      "101/101 [==============================] - 0s 1ms/step - loss: 0.3743 - accuracy: 0.8540\n",
      "Epoch 42/150\n",
      "101/101 [==============================] - 0s 1ms/step - loss: 0.3695 - accuracy: 0.8574\n",
      "Epoch 43/150\n",
      "101/101 [==============================] - 0s 1ms/step - loss: 0.3741 - accuracy: 0.8593\n",
      "Epoch 44/150\n",
      "101/101 [==============================] - 0s 1ms/step - loss: 0.3680 - accuracy: 0.8590\n",
      "Epoch 45/150\n",
      "101/101 [==============================] - 0s 1ms/step - loss: 0.3708 - accuracy: 0.8587\n",
      "Epoch 46/150\n",
      "101/101 [==============================] - 0s 1ms/step - loss: 0.3692 - accuracy: 0.8590\n",
      "Epoch 47/150\n",
      "101/101 [==============================] - 0s 1ms/step - loss: 0.3704 - accuracy: 0.8571\n",
      "Epoch 48/150\n",
      "101/101 [==============================] - 0s 1ms/step - loss: 0.3702 - accuracy: 0.8574\n",
      "Epoch 49/150\n",
      "101/101 [==============================] - 0s 1ms/step - loss: 0.3748 - accuracy: 0.8593\n",
      "Epoch 50/150\n",
      "101/101 [==============================] - 0s 1ms/step - loss: 0.3805 - accuracy: 0.8506\n",
      "Epoch 51/150\n",
      "101/101 [==============================] - 0s 1ms/step - loss: 0.3738 - accuracy: 0.8565\n",
      "Epoch 52/150\n",
      "101/101 [==============================] - 0s 1ms/step - loss: 0.3685 - accuracy: 0.8599\n",
      "Epoch 53/150\n",
      "101/101 [==============================] - 0s 1ms/step - loss: 0.3733 - accuracy: 0.8559\n",
      "Epoch 54/150\n",
      "101/101 [==============================] - 0s 1ms/step - loss: 0.3712 - accuracy: 0.8590\n",
      "Epoch 55/150\n",
      "101/101 [==============================] - 0s 1ms/step - loss: 0.3669 - accuracy: 0.8587\n",
      "Epoch 56/150\n",
      "101/101 [==============================] - 0s 1ms/step - loss: 0.3707 - accuracy: 0.8559\n",
      "Epoch 57/150\n",
      "101/101 [==============================] - 0s 1ms/step - loss: 0.3675 - accuracy: 0.8574\n",
      "Epoch 58/150\n",
      "101/101 [==============================] - 0s 1ms/step - loss: 0.3733 - accuracy: 0.8537\n",
      "Epoch 59/150\n",
      "101/101 [==============================] - 0s 1ms/step - loss: 0.3722 - accuracy: 0.8587\n",
      "Epoch 60/150\n",
      "101/101 [==============================] - 0s 1ms/step - loss: 0.3708 - accuracy: 0.8552\n",
      "Epoch 61/150\n",
      "101/101 [==============================] - 0s 1ms/step - loss: 0.3657 - accuracy: 0.8565\n",
      "Epoch 62/150\n",
      "101/101 [==============================] - 0s 1ms/step - loss: 0.3681 - accuracy: 0.8571\n",
      "Epoch 63/150\n",
      "101/101 [==============================] - 0s 1ms/step - loss: 0.3658 - accuracy: 0.8565\n",
      "Epoch 64/150\n",
      "101/101 [==============================] - 0s 1ms/step - loss: 0.3708 - accuracy: 0.8562\n",
      "Epoch 65/150\n",
      "101/101 [==============================] - 0s 1ms/step - loss: 0.3725 - accuracy: 0.8568\n",
      "Epoch 66/150\n",
      "101/101 [==============================] - 0s 1ms/step - loss: 0.3658 - accuracy: 0.8596\n",
      "Epoch 67/150\n",
      "101/101 [==============================] - 0s 1ms/step - loss: 0.3683 - accuracy: 0.8552\n",
      "Epoch 68/150\n",
      "101/101 [==============================] - 0s 1ms/step - loss: 0.3718 - accuracy: 0.8574\n",
      "Epoch 69/150\n",
      "101/101 [==============================] - 0s 1ms/step - loss: 0.3694 - accuracy: 0.8599\n",
      "Epoch 70/150\n",
      "101/101 [==============================] - 0s 1ms/step - loss: 0.3657 - accuracy: 0.8614\n",
      "Epoch 71/150\n",
      "101/101 [==============================] - 0s 1ms/step - loss: 0.3706 - accuracy: 0.8546\n",
      "Epoch 72/150\n",
      "101/101 [==============================] - 0s 1ms/step - loss: 0.3681 - accuracy: 0.8555\n",
      "Epoch 73/150\n",
      "101/101 [==============================] - 0s 1ms/step - loss: 0.3697 - accuracy: 0.8574\n",
      "Epoch 74/150\n",
      "101/101 [==============================] - 0s 1ms/step - loss: 0.3671 - accuracy: 0.8552\n",
      "Epoch 75/150\n",
      "101/101 [==============================] - 0s 1ms/step - loss: 0.3649 - accuracy: 0.8555\n",
      "Epoch 76/150\n",
      "101/101 [==============================] - 0s 1ms/step - loss: 0.3684 - accuracy: 0.8559\n",
      "Epoch 77/150\n",
      "101/101 [==============================] - 0s 1ms/step - loss: 0.3710 - accuracy: 0.8555\n",
      "Epoch 78/150\n",
      "101/101 [==============================] - 0s 1ms/step - loss: 0.3690 - accuracy: 0.8587\n",
      "Epoch 79/150\n",
      "101/101 [==============================] - 0s 1ms/step - loss: 0.3670 - accuracy: 0.8614\n",
      "Epoch 80/150\n",
      "101/101 [==============================] - 0s 1ms/step - loss: 0.3766 - accuracy: 0.8593\n",
      "Epoch 81/150\n",
      "101/101 [==============================] - 0s 1ms/step - loss: 0.3673 - accuracy: 0.8593\n",
      "Epoch 82/150\n",
      "101/101 [==============================] - 0s 1ms/step - loss: 0.3644 - accuracy: 0.8580\n",
      "Epoch 83/150\n",
      "101/101 [==============================] - 0s 1ms/step - loss: 0.3656 - accuracy: 0.8590\n",
      "Epoch 84/150\n",
      "101/101 [==============================] - 0s 1ms/step - loss: 0.3637 - accuracy: 0.8618\n",
      "Epoch 85/150\n",
      "101/101 [==============================] - 0s 1ms/step - loss: 0.3679 - accuracy: 0.8587\n",
      "Epoch 86/150\n",
      "101/101 [==============================] - 0s 1ms/step - loss: 0.3660 - accuracy: 0.8540\n",
      "Epoch 87/150\n",
      "101/101 [==============================] - 0s 1ms/step - loss: 0.3658 - accuracy: 0.8559\n",
      "Epoch 88/150\n",
      "101/101 [==============================] - 0s 1ms/step - loss: 0.3674 - accuracy: 0.8568\n",
      "Epoch 89/150\n",
      "101/101 [==============================] - 0s 1ms/step - loss: 0.3638 - accuracy: 0.8593\n",
      "Epoch 90/150\n",
      "101/101 [==============================] - 0s 1ms/step - loss: 0.3673 - accuracy: 0.8583\n",
      "Epoch 91/150\n",
      "101/101 [==============================] - 0s 1ms/step - loss: 0.3656 - accuracy: 0.8565\n",
      "Epoch 92/150\n",
      "101/101 [==============================] - 0s 1ms/step - loss: 0.3630 - accuracy: 0.8602\n",
      "Epoch 93/150\n",
      "101/101 [==============================] - 0s 1ms/step - loss: 0.3671 - accuracy: 0.8559\n",
      "Epoch 94/150\n",
      "101/101 [==============================] - 0s 1ms/step - loss: 0.3679 - accuracy: 0.8534\n",
      "Epoch 95/150\n",
      "101/101 [==============================] - 0s 1ms/step - loss: 0.3641 - accuracy: 0.8577\n",
      "Epoch 96/150\n",
      "101/101 [==============================] - 0s 1ms/step - loss: 0.3694 - accuracy: 0.8577\n",
      "Epoch 97/150\n",
      "101/101 [==============================] - 0s 1ms/step - loss: 0.3649 - accuracy: 0.8587\n",
      "Epoch 98/150\n",
      "101/101 [==============================] - 0s 1ms/step - loss: 0.3678 - accuracy: 0.8565\n",
      "Epoch 99/150\n",
      "101/101 [==============================] - 0s 1ms/step - loss: 0.3652 - accuracy: 0.8587\n",
      "Epoch 100/150\n",
      "101/101 [==============================] - 0s 1ms/step - loss: 0.3675 - accuracy: 0.8543\n",
      "Epoch 101/150\n",
      "101/101 [==============================] - 0s 1ms/step - loss: 0.3644 - accuracy: 0.8599\n",
      "Epoch 102/150\n",
      "101/101 [==============================] - 0s 1ms/step - loss: 0.3610 - accuracy: 0.8624\n",
      "Epoch 103/150\n",
      "101/101 [==============================] - 0s 1ms/step - loss: 0.3691 - accuracy: 0.8549\n",
      "Epoch 104/150\n",
      "101/101 [==============================] - 0s 1ms/step - loss: 0.3624 - accuracy: 0.8555\n",
      "Epoch 105/150\n",
      "101/101 [==============================] - 0s 1ms/step - loss: 0.3617 - accuracy: 0.8611\n",
      "Epoch 106/150\n",
      "101/101 [==============================] - 0s 1ms/step - loss: 0.3654 - accuracy: 0.8593\n",
      "Epoch 107/150\n",
      "101/101 [==============================] - 0s 1ms/step - loss: 0.3612 - accuracy: 0.8596\n",
      "Epoch 108/150\n",
      "101/101 [==============================] - 0s 1ms/step - loss: 0.3705 - accuracy: 0.8587\n",
      "Epoch 109/150\n",
      "101/101 [==============================] - 0s 1ms/step - loss: 0.3736 - accuracy: 0.8559\n",
      "Epoch 110/150\n",
      "101/101 [==============================] - 0s 1ms/step - loss: 0.3614 - accuracy: 0.8646\n",
      "Epoch 111/150\n",
      "101/101 [==============================] - 0s 2ms/step - loss: 0.3693 - accuracy: 0.8587\n",
      "Epoch 112/150\n",
      "101/101 [==============================] - 0s 1ms/step - loss: 0.3649 - accuracy: 0.8602\n",
      "Epoch 113/150\n",
      "101/101 [==============================] - 0s 1ms/step - loss: 0.3627 - accuracy: 0.8562\n",
      "Epoch 114/150\n",
      "101/101 [==============================] - 0s 1ms/step - loss: 0.3643 - accuracy: 0.8568\n",
      "Epoch 115/150\n",
      "101/101 [==============================] - 0s 1ms/step - loss: 0.3642 - accuracy: 0.8593\n",
      "Epoch 116/150\n",
      "101/101 [==============================] - 0s 1ms/step - loss: 0.3650 - accuracy: 0.8562\n",
      "Epoch 117/150\n",
      "101/101 [==============================] - 0s 1ms/step - loss: 0.3637 - accuracy: 0.8565\n",
      "Epoch 118/150\n",
      "101/101 [==============================] - 0s 1ms/step - loss: 0.3663 - accuracy: 0.8621\n",
      "Epoch 119/150\n",
      "101/101 [==============================] - 0s 1ms/step - loss: 0.3672 - accuracy: 0.8580\n",
      "Epoch 120/150\n",
      "101/101 [==============================] - 0s 1ms/step - loss: 0.3624 - accuracy: 0.8577\n",
      "Epoch 121/150\n",
      "101/101 [==============================] - 0s 1ms/step - loss: 0.3606 - accuracy: 0.8593\n",
      "Epoch 122/150\n",
      "101/101 [==============================] - 0s 1ms/step - loss: 0.3609 - accuracy: 0.8596\n",
      "Epoch 123/150\n",
      "101/101 [==============================] - 0s 1ms/step - loss: 0.3610 - accuracy: 0.8593\n",
      "Epoch 124/150\n",
      "101/101 [==============================] - 0s 1ms/step - loss: 0.3616 - accuracy: 0.8593\n",
      "Epoch 125/150\n",
      "101/101 [==============================] - 0s 1ms/step - loss: 0.3594 - accuracy: 0.8587\n",
      "Epoch 126/150\n",
      "101/101 [==============================] - 0s 1ms/step - loss: 0.3615 - accuracy: 0.8574\n",
      "Epoch 127/150\n",
      "101/101 [==============================] - 0s 1ms/step - loss: 0.3603 - accuracy: 0.8611\n",
      "Epoch 128/150\n",
      "101/101 [==============================] - 0s 1ms/step - loss: 0.3588 - accuracy: 0.8611\n",
      "Epoch 129/150\n",
      "101/101 [==============================] - 0s 1ms/step - loss: 0.3635 - accuracy: 0.8552\n",
      "Epoch 130/150\n",
      "101/101 [==============================] - 0s 1ms/step - loss: 0.3636 - accuracy: 0.8602\n",
      "Epoch 131/150\n",
      "101/101 [==============================] - 0s 1ms/step - loss: 0.3610 - accuracy: 0.8608\n",
      "Epoch 132/150\n",
      "101/101 [==============================] - 0s 1ms/step - loss: 0.3585 - accuracy: 0.8602\n",
      "Epoch 133/150\n",
      "101/101 [==============================] - 0s 1ms/step - loss: 0.3597 - accuracy: 0.8627\n",
      "Epoch 134/150\n",
      "101/101 [==============================] - 0s 1ms/step - loss: 0.3600 - accuracy: 0.8590\n",
      "Epoch 135/150\n",
      "101/101 [==============================] - 0s 1ms/step - loss: 0.3611 - accuracy: 0.8605\n",
      "Epoch 136/150\n",
      "101/101 [==============================] - 0s 1ms/step - loss: 0.3585 - accuracy: 0.8627\n",
      "Epoch 137/150\n",
      "101/101 [==============================] - 0s 1ms/step - loss: 0.3620 - accuracy: 0.8562\n",
      "Epoch 138/150\n",
      "101/101 [==============================] - 0s 1ms/step - loss: 0.3646 - accuracy: 0.8587\n",
      "Epoch 139/150\n",
      "101/101 [==============================] - 0s 1ms/step - loss: 0.3611 - accuracy: 0.8614\n",
      "Epoch 140/150\n",
      "101/101 [==============================] - 0s 1ms/step - loss: 0.3588 - accuracy: 0.8605\n",
      "Epoch 141/150\n",
      "101/101 [==============================] - 0s 1ms/step - loss: 0.3597 - accuracy: 0.8593\n",
      "Epoch 142/150\n",
      "101/101 [==============================] - 0s 1ms/step - loss: 0.3607 - accuracy: 0.8608\n",
      "Epoch 143/150\n",
      "101/101 [==============================] - 0s 1ms/step - loss: 0.3690 - accuracy: 0.8568\n",
      "Epoch 144/150\n",
      "101/101 [==============================] - 0s 1ms/step - loss: 0.3622 - accuracy: 0.8599\n",
      "Epoch 145/150\n",
      "101/101 [==============================] - 0s 1ms/step - loss: 0.3608 - accuracy: 0.8599\n",
      "Epoch 146/150\n",
      "101/101 [==============================] - 0s 1ms/step - loss: 0.3616 - accuracy: 0.8583\n",
      "Epoch 147/150\n",
      "101/101 [==============================] - 0s 1ms/step - loss: 0.3618 - accuracy: 0.8642\n",
      "Epoch 148/150\n",
      "101/101 [==============================] - 0s 1ms/step - loss: 0.3608 - accuracy: 0.8633\n",
      "Epoch 149/150\n",
      "101/101 [==============================] - 0s 1ms/step - loss: 0.3594 - accuracy: 0.8577\n",
      "Epoch 150/150\n",
      "101/101 [==============================] - 0s 1ms/step - loss: 0.3599 - accuracy: 0.8577\n"
     ]
    },
    {
     "data": {
      "text/plain": [
       "<keras.src.callbacks.History at 0x26466ec59d0>"
      ]
     },
     "execution_count": 47,
     "metadata": {},
     "output_type": "execute_result"
    }
   ],
   "source": [
    "model.fit(x_train,y_train, epochs=150)"
   ]
  },
  {
   "cell_type": "code",
   "execution_count": 48,
   "id": "15208c1b",
   "metadata": {},
   "outputs": [
    {
     "name": "stdout",
     "output_type": "stream",
     "text": [
      "26/26 [==============================] - 0s 2ms/step - loss: 0.4008 - accuracy: 0.8460\n"
     ]
    },
    {
     "data": {
      "text/plain": [
       "[0.4007788598537445, 0.8459627032279968]"
      ]
     },
     "execution_count": 48,
     "metadata": {},
     "output_type": "execute_result"
    }
   ],
   "source": [
    "model.evaluate(x_test,y_test)"
   ]
  },
  {
   "cell_type": "code",
   "execution_count": 49,
   "id": "6915a98d",
   "metadata": {},
   "outputs": [
    {
     "name": "stdout",
     "output_type": "stream",
     "text": [
      "26/26 [==============================] - 0s 2ms/step\n"
     ]
    },
    {
     "data": {
      "text/plain": [
       "array([[0.7009766 ],\n",
       "       [0.87103057],\n",
       "       [0.8154674 ],\n",
       "       [0.5583379 ],\n",
       "       [0.8936179 ]], dtype=float32)"
      ]
     },
     "execution_count": 49,
     "metadata": {},
     "output_type": "execute_result"
    }
   ],
   "source": [
    "yp= model.predict(x_test)\n",
    "yp[:5]"
   ]
  },
  {
   "cell_type": "code",
   "execution_count": 50,
   "id": "f50587dd",
   "metadata": {},
   "outputs": [
    {
     "data": {
      "text/plain": [
       "1716    0\n",
       "2383    0\n",
       "3800    1\n",
       "3192    1\n",
       "228     1\n",
       "1998    1\n",
       "3135    0\n",
       "3689    1\n",
       "3862    1\n",
       "2733    1\n",
       "Name: Status, dtype: int64"
      ]
     },
     "execution_count": 50,
     "metadata": {},
     "output_type": "execute_result"
    }
   ],
   "source": [
    "y_test[:10]"
   ]
  },
  {
   "cell_type": "code",
   "execution_count": 51,
   "id": "e818b932",
   "metadata": {},
   "outputs": [],
   "source": [
    "y_pred= []\n",
    "for element in yp:\n",
    "    if element> 0.5:\n",
    "        y_pred.append(1)\n",
    "        \n",
    "    else:\n",
    "        y_pred.append(0)"
   ]
  },
  {
   "cell_type": "code",
   "execution_count": 52,
   "id": "5f630d81",
   "metadata": {},
   "outputs": [
    {
     "data": {
      "text/plain": [
       "[1, 1, 1, 1, 1, 1, 1, 1, 1, 1]"
      ]
     },
     "execution_count": 52,
     "metadata": {},
     "output_type": "execute_result"
    }
   ],
   "source": [
    "y_pred[:10]"
   ]
  },
  {
   "cell_type": "code",
   "execution_count": 53,
   "id": "fd2e8f87",
   "metadata": {},
   "outputs": [],
   "source": [
    "from sklearn.metrics import accuracy_score, jaccard_score, precision_score, recall_score, f1_score\n",
    "accuracy = accuracy_score(y_test, y_pred)\n",
    "f1_score_value = f1_score(y_test, y_pred)\n",
    "recall = recall_score(y_test, y_pred)\n",
    "precision = precision_score(y_test, y_pred)\n",
    "jaccard = jaccard_score(y_test, y_pred)"
   ]
  },
  {
   "cell_type": "code",
   "execution_count": 54,
   "id": "b1b2f15c",
   "metadata": {},
   "outputs": [
    {
     "name": "stdout",
     "output_type": "stream",
     "text": [
      "Accuracy: 0.8459627329192546\n",
      "F1 score:  0.9153005464480874\n",
      "Recall :  0.9911242603550295\n",
      "Precision :  0.850253807106599\n",
      "Jaccard score:  0.8438287153652393\n"
     ]
    }
   ],
   "source": [
    "print(f\"Accuracy: {accuracy}\")\n",
    "print(\"F1 score: \",f1_score_value)\n",
    "print(\"Recall : \",recall)\n",
    "print(\"Precision : \",precision)\n",
    "print(\"Jaccard score: \",jaccard)"
   ]
  },
  {
   "cell_type": "code",
   "execution_count": 55,
   "id": "15c1536e",
   "metadata": {},
   "outputs": [
    {
     "data": {
      "image/png": "[encoded data removed]",
      "text/plain": [
       "<Figure size 1000x600 with 1 Axes>"
      ]
     },
     "metadata": {},
     "output_type": "display_data"
    }
   ],
   "source": [
    "# Create a DataFrame for the metrics\n",
    "metrics = pd.DataFrame({'Metrics': ['Accuracy', 'F1 Score', 'Recall', 'Precision', 'Jaccard Score'],\n",
    "                        'Values': [accuracy, f1_score_value, recall, precision, jaccard]})\n",
    "\n",
    "# Create a bar chart\n",
    "plt.figure(figsize=(10, 6))\n",
    "plt.bar(metrics['Metrics'], metrics['Values'], color=['blue', 'green', 'orange', 'red', 'purple'])\n",
    "plt.xlabel('Metrics')\n",
    "plt.ylabel('Values')\n",
    "plt.title('Evaluation Metrics for Artificial Neural Network')\n",
    "plt.ylim(0, 1)  # Set y-axis limits to match the range of metric values (0 to 1)\n",
    "plt.savefig('Scores_plot.jpg')\n",
    "plt.show()"
   ]
  },
  {
   "cell_type": "code",
   "execution_count": 56,
   "id": "4d7f93dd",
   "metadata": {},
   "outputs": [
    {
     "name": "stdout",
     "output_type": "stream",
     "text": [
      "              precision    recall  f1-score   support\n",
      "\n",
      "           0       0.65      0.09      0.15       129\n",
      "           1       0.85      0.99      0.92       676\n",
      "\n",
      "    accuracy                           0.85       805\n",
      "   macro avg       0.75      0.54      0.53       805\n",
      "weighted avg       0.82      0.85      0.79       805\n",
      "\n"
     ]
    }
   ],
   "source": [
    "from sklearn.metrics import confusion_matrix, classification_report\n",
    "\n",
    "print(classification_report(y_test, y_pred))"
   ]
  },
  {
   "cell_type": "code",
   "execution_count": 57,
   "id": "985558a4",
   "metadata": {},
   "outputs": [
    {
     "data": {
      "text/plain": [
       "Text(0.5, 1.0, 'Classification Performance Summary')"
      ]
     },
     "execution_count": 57,
     "metadata": {},
     "output_type": "execute_result"
    },
    {
     "data": {
      "image/png": "[encoded data removed]",
      "text/plain": [
       "<Figure size 1000x700 with 2 Axes>"
      ]
     },
     "metadata": {},
     "output_type": "display_data"
    }
   ],
   "source": [
    "import seaborn as sn\n",
    "cm= tf.math.confusion_matrix(labels= y_test, predictions= y_pred)\n",
    "\n",
    "plt.figure(figsize=(10,7))\n",
    "sn.heatmap(cm, annot=True, fmt='d')\n",
    "plt.xlabel('predicted')\n",
    "plt.ylabel('Truth')\n",
    "plt.title('Classification Performance Summary')"
   ]
  },
  {
   "cell_type": "code",
   "execution_count": null,
   "id": "88bc63ff",
   "metadata": {},
   "outputs": [],
   "source": []
  },
  {
   "cell_type": "code",
   "execution_count": null,
   "id": "65e85993",
   "metadata": {},
   "outputs": [],
   "source": []
  }
 ],
 "metadata": {
  "kernelspec": {
   "display_name": "Python 3 (ipykernel)",
   "language": "python",
   "name": "python3"
  },
  "language_info": {
   "codemirror_mode": {
    "name": "ipython",
    "version": 3
   },
   "file_extension": ".py",
   "mimetype": "text/x-python",
   "name": "python",
   "nbconvert_exporter": "python",
   "pygments_lexer": "ipython3",
   "version": "3.11.4"
  }
 },
 "nbformat": 4,
 "nbformat_minor": 5
}
